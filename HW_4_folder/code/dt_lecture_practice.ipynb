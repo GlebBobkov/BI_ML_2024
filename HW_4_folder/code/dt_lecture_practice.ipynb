{
 "cells": [
  {
   "cell_type": "code",
   "execution_count": 1,
   "id": "b084d51a-694e-4cc8-99cb-f2e8cc62269d",
   "metadata": {},
   "outputs": [],
   "source": [
    "import pandas as pd\n",
    "from sklearn.tree import DecisionTreeClassifier\n",
    "from sklearn.model_selection import train_test_split\n",
    "from sklearn.metrics import accuracy_score"
   ]
  },
  {
   "cell_type": "markdown",
   "id": "ab8e95f5-5349-423d-8c28-e80f50a61ce2",
   "metadata": {},
   "source": [
    "Будем учиться классифицировать жанры музыки, полузуюсь не аудио дорожками, а уже осмысленными признаками (правда, не все из них имеют понятные названия). Сами данные можно найти [здесь](https://www.kaggle.com/purumalgi/music-genre-classification). Будем использовать файл `train.csv`. Нашей задачей будет предсказание переменной `Class` (жанр песни) при помощи деревьев решений. Можно попробовать также другие методы классификации, которые мы прошли, и сравнить результаты. При обучении всех моделей не забывайте про разделение на тренировку и тест (или кросс валидацию [ссылка](https://www.youtube.com/watch?v=fSytzGwwBVw))."
   ]
  },
  {
   "cell_type": "markdown",
   "id": "04e0c9f5-2043-4ed7-92e4-e53677b60df8",
   "metadata": {},
   "source": [
    "### Задание 1. EDA (10 баллов)\n",
    "\n",
    "Как обычно, начнем с того, что посмотрим на наши данные: типы переменных, пропущенные значения, баланс классов и все такое. Ваш ход:"
   ]
  },
  {
   "cell_type": "code",
   "execution_count": 2,
   "id": "1ab19c5c-4a2b-4388-8063-ec56e415408a",
   "metadata": {},
   "outputs": [
    {
     "name": "stdout",
     "output_type": "stream",
     "text": [
      "             Artist Name                             Track Name  Popularity  \\\n",
      "0             Bruno Mars  That's What I Like (feat. Gucci Mane)        60.0   \n",
      "1                 Boston                           Hitch a Ride        54.0   \n",
      "2          The Raincoats                     No Side to Fall In        35.0   \n",
      "3                   Deno             Lingo (feat. J.I & Chunkz)        66.0   \n",
      "4  Red Hot Chili Peppers      Nobody Weird Like Me - Remastered        53.0   \n",
      "\n",
      "   danceability  energy   key  loudness  mode  speechiness  acousticness  \\\n",
      "0         0.854   0.564   1.0    -4.964     1       0.0485      0.017100   \n",
      "1         0.382   0.814   3.0    -7.230     1       0.0406      0.001100   \n",
      "2         0.434   0.614   6.0    -8.334     1       0.0525      0.486000   \n",
      "3         0.853   0.597  10.0    -6.528     0       0.0555      0.021200   \n",
      "4         0.167   0.975   2.0    -4.279     1       0.2160      0.000169   \n",
      "\n",
      "   instrumentalness  liveness  valence    tempo  duration_in min/ms  \\\n",
      "0               NaN    0.0849   0.8990  134.071            234596.0   \n",
      "1          0.004010    0.1010   0.5690  116.454            251733.0   \n",
      "2          0.000196    0.3940   0.7870  147.681            109667.0   \n",
      "3               NaN    0.1220   0.5690  107.033            173968.0   \n",
      "4          0.016100    0.1720   0.0918  199.060            229960.0   \n",
      "\n",
      "   time_signature  Class  \n",
      "0               4      5  \n",
      "1               4     10  \n",
      "2               4      6  \n",
      "3               4      5  \n",
      "4               4     10  \n",
      "<class 'pandas.core.frame.DataFrame'>\n",
      "RangeIndex: 17996 entries, 0 to 17995\n",
      "Data columns (total 17 columns):\n",
      " #   Column              Non-Null Count  Dtype  \n",
      "---  ------              --------------  -----  \n",
      " 0   Artist Name         17996 non-null  object \n",
      " 1   Track Name          17996 non-null  object \n",
      " 2   Popularity          17568 non-null  float64\n",
      " 3   danceability        17996 non-null  float64\n",
      " 4   energy              17996 non-null  float64\n",
      " 5   key                 15982 non-null  float64\n",
      " 6   loudness            17996 non-null  float64\n",
      " 7   mode                17996 non-null  int64  \n",
      " 8   speechiness         17996 non-null  float64\n",
      " 9   acousticness        17996 non-null  float64\n",
      " 10  instrumentalness    13619 non-null  float64\n",
      " 11  liveness            17996 non-null  float64\n",
      " 12  valence             17996 non-null  float64\n",
      " 13  tempo               17996 non-null  float64\n",
      " 14  duration_in min/ms  17996 non-null  float64\n",
      " 15  time_signature      17996 non-null  int64  \n",
      " 16  Class               17996 non-null  int64  \n",
      "dtypes: float64(12), int64(3), object(2)\n",
      "memory usage: 2.3+ MB\n",
      "None\n",
      "         Popularity  danceability        energy           key      loudness  \\\n",
      "count  17568.000000  17996.000000  17996.000000  15982.000000  17996.000000   \n",
      "mean      44.512124      0.543433      0.662777      5.952447     -7.910660   \n",
      "std       17.426928      0.166268      0.235373      3.196854      4.049151   \n",
      "min        1.000000      0.059600      0.000020      1.000000    -39.952000   \n",
      "25%       33.000000      0.432000      0.509000      3.000000     -9.538000   \n",
      "50%       44.000000      0.545000      0.700000      6.000000     -7.016000   \n",
      "75%       56.000000      0.659000      0.860000      9.000000     -5.189000   \n",
      "max      100.000000      0.989000      1.000000     11.000000      1.355000   \n",
      "\n",
      "               mode   speechiness  acousticness  instrumentalness  \\\n",
      "count  17996.000000  17996.000000  17996.000000      13619.000000   \n",
      "mean       0.636753      0.079707      0.247082          0.177562   \n",
      "std        0.480949      0.083576      0.310632          0.304048   \n",
      "min        0.000000      0.022500      0.000000          0.000001   \n",
      "25%        0.000000      0.034800      0.004300          0.000089   \n",
      "50%        1.000000      0.047400      0.081400          0.003910   \n",
      "75%        1.000000      0.083000      0.434000          0.200000   \n",
      "max        1.000000      0.955000      0.996000          0.996000   \n",
      "\n",
      "           liveness       valence         tempo  duration_in min/ms  \\\n",
      "count  17996.000000  17996.000000  17996.000000        1.799600e+04   \n",
      "mean       0.196170      0.486208    122.623294        2.007445e+05   \n",
      "std        0.159212      0.240195     29.571527        1.119891e+05   \n",
      "min        0.011900      0.018300     30.557000        5.016500e-01   \n",
      "25%        0.097500      0.297000     99.620750        1.663370e+05   \n",
      "50%        0.129000      0.481000    120.065500        2.091600e+05   \n",
      "75%        0.258000      0.672000    141.969250        2.524900e+05   \n",
      "max        1.000000      0.986000    217.416000        1.477187e+06   \n",
      "\n",
      "       time_signature         Class  \n",
      "count    17996.000000  17996.000000  \n",
      "mean         3.924039      6.695821  \n",
      "std          0.361618      3.206073  \n",
      "min          1.000000      0.000000  \n",
      "25%          4.000000      5.000000  \n",
      "50%          4.000000      8.000000  \n",
      "75%          4.000000     10.000000  \n",
      "max          5.000000     10.000000  \n",
      "Class\n",
      "10    4949\n",
      "6     2587\n",
      "9     2524\n",
      "8     1854\n",
      "5     1447\n",
      "1     1373\n",
      "2     1272\n",
      "0      625\n",
      "7      576\n",
      "3      402\n",
      "4      387\n",
      "Name: count, dtype: int64\n"
     ]
    }
   ],
   "source": [
    "data = pd.read_csv(\"train.csv\")\n",
    "\n",
    "print(data.head())\n",
    "\n",
    "print(data.info())\n",
    "\n",
    "print(data.describe())\n",
    "\n",
    "print(data['Class'].value_counts())\n",
    "\n",
    "X = data.drop('Class', axis=1)\n",
    "y = data['Class']"
   ]
  },
  {
   "cell_type": "code",
   "execution_count": 5,
   "id": "098ec0a9-0743-493b-bcb9-97b78e2c3f5b",
   "metadata": {},
   "outputs": [
    {
     "name": "stdout",
     "output_type": "stream",
     "text": [
      "Index(['Popularity', 'danceability', 'energy', 'key', 'loudness', 'mode',\n",
      "       'speechiness', 'acousticness', 'instrumentalness', 'liveness',\n",
      "       'valence', 'tempo', 'duration_in min/ms', 'time_signature', 'Class'],\n",
      "      dtype='object')\n"
     ]
    }
   ],
   "source": [
    "print(data.columns)"
   ]
  },
  {
   "cell_type": "markdown",
   "id": "d7dfab66-247d-423e-a4f9-5891ce11627b",
   "metadata": {},
   "source": [
    "### Задание 2. Обучение дерева решений (10 баллов)\n",
    "\n",
    "Предобработайте признаки так, чтобы их можно было подать в модель дерева решений и обучите ее, постарайтесь подобрать оптимальные гиперпараметры, которые вам известны. Постарайтесь также обосновать выбор метрики в данном случае. При подборе гиперпараметров может помочь `GridSearchCV` [ссылка](https://scikit-learn.org/stable/modules/generated/sklearn.model_selection.GridSearchCV.html)."
   ]
  },
  {
   "cell_type": "code",
   "execution_count": 6,
   "id": "f69d6a02-fac9-48ec-9ae8-1613f27283d5",
   "metadata": {},
   "outputs": [
    {
     "name": "stdout",
     "output_type": "stream",
     "text": [
      "Best parameters:  {'classifier__max_depth': 10, 'classifier__min_samples_leaf': 4, 'classifier__min_samples_split': 10}\n",
      "Best cross-validation score: 0.48\n",
      "Test accuracy: 0.48\n",
      "\n",
      "Classification Report:\n",
      "               precision    recall  f1-score   support\n",
      "\n",
      "           0       0.64      0.74      0.68       136\n",
      "           1       0.26      0.04      0.07       286\n",
      "           2       0.39      0.27      0.32       281\n",
      "           3       0.65      0.65      0.65        78\n",
      "           4       0.59      0.68      0.63        71\n",
      "           5       0.65      0.63      0.64       262\n",
      "           6       0.32      0.30      0.31       500\n",
      "           7       0.90      0.86      0.88       103\n",
      "           8       0.63      0.50      0.56       382\n",
      "           9       0.47      0.43      0.45       531\n",
      "          10       0.43      0.63      0.51       970\n",
      "\n",
      "    accuracy                           0.48      3600\n",
      "   macro avg       0.54      0.52      0.52      3600\n",
      "weighted avg       0.47      0.48      0.46      3600\n",
      "\n",
      "\n",
      "Confusion Matrix:\n",
      " [[100   0   0  13   8   0   0   5   0   7   3]\n",
      " [  0  11  15   0   0  15  67   0   7  17 154]\n",
      " [  0   1  75   0   0   7  58   0   4  35 101]\n",
      " [ 14   0   0  51   3   0   0   5   0   3   2]\n",
      " [ 15   0   0   0  48   0   0   0   0   5   3]\n",
      " [  0   1   6   0   0 165  15   0   0  56  19]\n",
      " [  0  19  27   0   0  22 149   0  20  46 217]\n",
      " [ 10   0   0   2   0   0   0  89   0   1   1]\n",
      " [  0   1   5   0   0   0  22   0 192   3 159]\n",
      " [ 12   4  22   7  12  36  51   0   1 227 159]\n",
      " [  6   6  44   5  11  10 110   0  83  86 609]]\n"
     ]
    }
   ],
   "source": [
    "from sklearn.preprocessing import StandardScaler\n",
    "from sklearn.impute import SimpleImputer\n",
    "from sklearn.model_selection import train_test_split, GridSearchCV\n",
    "from sklearn.pipeline import Pipeline\n",
    "from sklearn.tree import DecisionTreeClassifier\n",
    "from sklearn.metrics import classification_report, confusion_matrix, accuracy_score\n",
    "\n",
    "\n",
    "X = data.drop('Class', axis=1)\n",
    "y = data['Class']\n",
    "\n",
    "\n",
    "X_train, X_test, y_train, y_test = train_test_split(X, y, test_size=0.2, random_state=42)\n",
    "\n",
    "pipeline = Pipeline([\n",
    "    ('imputer', SimpleImputer(strategy='mean')),  # Заполнение пропущенных значений\n",
    "    ('scaler', StandardScaler()),  # Масштабирование признаков\n",
    "    ('classifier', DecisionTreeClassifier(random_state=42))  # Модель дерева решений\n",
    "])\n",
    "\n",
    "\n",
    "param_grid = {\n",
    "    'classifier__max_depth': [None, 5, 10, 15],\n",
    "    'classifier__min_samples_split': [2, 5, 10],\n",
    "    'classifier__min_samples_leaf': [1, 2, 4]\n",
    "}\n",
    "\n",
    "grid_search = GridSearchCV(pipeline, param_grid, cv=5, scoring='accuracy', n_jobs=-1)\n",
    "grid_search.fit(X_train, y_train)\n",
    "\n",
    "print(\"Best parameters: \", grid_search.best_params_)\n",
    "print(\"Best cross-validation score: {:.2f}\".format(grid_search.best_score_))\n",
    "\n",
    "y_pred = grid_search.predict(X_test)\n",
    "print(\"Test accuracy: {:.2f}\".format(accuracy_score(y_test, y_pred)))\n",
    "print(\"\\nClassification Report:\\n\", classification_report(y_test, y_pred))\n",
    "print(\"\\nConfusion Matrix:\\n\", confusion_matrix(y_test, y_pred))\n"
   ]
  },
  {
   "cell_type": "markdown",
   "id": "11c54184-da20-4f53-9d5f-575e2cad3a4d",
   "metadata": {},
   "source": [
    "### Задание 3. Другие модели (без баллов, просто если есть желание)\n",
    "\n",
    "Проделайте операции из **Задания 2** с другими известными вам классификаторами. Стало ли лучше?"
   ]
  },
  {
   "cell_type": "code",
   "execution_count": null,
   "id": "eb381e31-ecb5-47aa-8eb0-1fed6e248c61",
   "metadata": {},
   "outputs": [],
   "source": []
  },
  {
   "cell_type": "markdown",
   "id": "a4d857d4-15fc-456d-adb3-d0ebd1690cfa",
   "metadata": {},
   "source": [
    "### Задание 4. (0.5 доп. балла)\n",
    "\n",
    "Расскажите про свои любимые фильмы, мультики и тд.\n",
    "\n",
    "1.\n",
    "\n",
    "2.\n",
    "\n",
    "3."
   ]
  },
  {
   "cell_type": "code",
   "execution_count": null,
   "id": "9ab7a7eb-eae9-4b07-bcc1-d5deca2aba00",
   "metadata": {},
   "outputs": [],
   "source": [
    "фильм - интерстеллар (почему то он просто полюбился сразу же, еще в далеком 2014-ом)\n",
    "мультфильм - тачки (мкльтфильм который помогает сохранять себя, показывает ценности в жизни и помогает никогда не сдаваться)\n",
    "группа (потому что классификацию делали для музыки) - The Doors - Riders on the storm, Red hot chill peppers - The Getaway"
   ]
  }
 ],
 "metadata": {
  "kernelspec": {
   "display_name": "Python 3 (ipykernel)",
   "language": "python",
   "name": "python3"
  },
  "language_info": {
   "codemirror_mode": {
    "name": "ipython",
    "version": 3
   },
   "file_extension": ".py",
   "mimetype": "text/x-python",
   "name": "python",
   "nbconvert_exporter": "python",
   "pygments_lexer": "ipython3",
   "version": "3.11.5"
  }
 },
 "nbformat": 4,
 "nbformat_minor": 5
}
